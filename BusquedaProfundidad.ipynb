{
 "cells": [
  {
   "cell_type": "markdown",
   "metadata": {},
   "source": [
    "# Busqueda por Profundidad\n",
    "\n",
    "A continuacion se ejemplifica la busqueda por profundidad revisada en clase. Para ello se tiene un ejemplo de la solucion de un Puzzle utilizando recursividad\n"
   ]
  },
  {
   "cell_type": "code",
   "execution_count": 1,
   "metadata": {},
   "outputs": [],
   "source": [
    "# Busqueda en Profundidad\n",
    "\n",
    "# Creamos la clase Nodo\n",
    "class Node:\n",
    "    def __init__(self, data, child=None): # Constructor de la clase\n",
    "        self.data = data\n",
    "        self.child = None\n",
    "        self.fathr = None\n",
    "        self.cost = None\n",
    "        self.set_child(child)\n",
    "\n",
    "    def set_child(self, child): # Agregar hijos\n",
    "        self.child = child\n",
    "        if self.child is not None:\n",
    "            for ch in self.child:\n",
    "                ch.fathr = self\n",
    "            \n",
    "    def equal(self, node): # Igual al equals de Java\n",
    "        if self.data == node.data:\n",
    "            return True\n",
    "        else:\n",
    "            return False\n",
    "\n",
    "    def on_list(self, node_list): # Verfiicar su el nodo esta en la lista\n",
    "        listed = False\n",
    "        for n in node_list:\n",
    "            if self.equal(n):\n",
    "                listed = True\n",
    "        return listed\n",
    "\n",
    "    def __str__(self): # Igual al toString Java\n",
    "        return str(self.data)"
   ]
  },
  {
   "cell_type": "code",
   "execution_count": 3,
   "metadata": {},
   "outputs": [
    {
     "name": "stdout",
     "output_type": "stream",
     "text": [
      "[[4, 2, 3, 1], [2, 4, 3, 1], [2, 3, 4, 1], [3, 2, 4, 1], [3, 4, 2, 1], [4, 3, 2, 1], [4, 3, 1, 2], [3, 4, 1, 2], [3, 1, 4, 2], [1, 3, 4, 2], [1, 4, 3, 2], [4, 1, 3, 2], [4, 1, 2, 3], [1, 4, 2, 3], [1, 2, 4, 3], [2, 1, 4, 3], [2, 1, 3, 4], [1, 2, 3, 4]]\n"
     ]
    }
   ],
   "source": [
    "# Implementacion del metodo de busqueda por profundidad\n",
    "def search_profundidad(init_node, solution, visited):\n",
    "    visited.append(init_node.data) #Lista de visitados\n",
    "    if init_node.data == solution: # Condicion de salida recursividad (Encontro la solucion)\n",
    "        return init_node # Retorno el nodo resultado\n",
    "    else:\n",
    "        # Expandir nodos sucesores (hijos)\n",
    "        node_data = init_node.data\n",
    "        son = [node_data[1], node_data[0], node_data[2], node_data[3]]\n",
    "        izq = Node(son)\n",
    "        son = [node_data[0], node_data[2], node_data[1], node_data[3]]\n",
    "        centro = Node(son)\n",
    "        son = [node_data[0], node_data[1], node_data[3], node_data[2]]\n",
    "        der = Node(son)\n",
    "        init_node.set_child([izq, centro, der])\n",
    "\n",
    "        for node_son in init_node.child: # Recorrer los nodos hijos\n",
    "            if not node_son.data in visited: # No deben estar en los nodos visitados\n",
    "                # Llamada Recursiva\n",
    "                Solution = search_profundidad(node_son, solution, visited) \n",
    "                if Solution is not None: # Cuando encuentra una solucion\n",
    "                    return Solution # Retornamos la solucion encontrada\n",
    "        return None\n",
    "\n",
    "init_state = [4, 2, 3, 1] # Creamos un estado inicial\n",
    "solution = [1, 2, 3, 4] # La solucion que debe buscar\n",
    "#Inicializamos las variables\n",
    "solution_node = None \n",
    "visited = []\n",
    "init_node = Node(init_state)\n",
    "node = search_profundidad(init_node, solution, visited) # Llamamos la metodo de busqueda\n",
    "\n",
    "# Mostrar Resultado\n",
    "result = []\n",
    "while node.fathr is not None:\n",
    "    result.append(node.data)\n",
    "    node = node.fathr\n",
    "result.append(init_state)\n",
    "result.reverse() # Reverso el resultado (Solo para presentar)\n",
    "print(result)"
   ]
  },
  {
   "cell_type": "markdown",
   "metadata": {},
   "source": [
    "## Practica\n",
    "\n",
    "Implementar un algoritmo que me permita dibujar la busqueda de soluciones.\n",
    "\n",
    "Mediante el uso de la herramienta de Google Maps tomar al su direccion domiciliaria como punto de partida y generar un arbol jerarquico con todos los posibles Centros educativos, para ello se debe tener como primer nivel los mas cercanos y a continuacion los demas.\n",
    "\n",
    "Realizar un metodo de busqueda para encontrar la solucion de colocar en un tablero las 4 reinas.\n",
    "\n",
    "\n",
    "Subir el cuaderno con la resolucion.\n"
   ]
  },
  {
   "cell_type": "code",
   "execution_count": 14,
   "metadata": {
    "scrolled": true
   },
   "outputs": [
    {
     "name": "stdout",
     "output_type": "stream",
     "text": [
      "[[4, 2, 3, 1], [2, 4, 3, 1], [2, 3, 4, 1], [2, 3, 1, 4], [2, 1, 3, 4], [1, 2, 3, 4]]\n"
     ]
    }
   ],
   "source": [
    "# Implementar"
   ]
  },
  {
   "cell_type": "markdown",
   "metadata": {},
   "source": [
    "# Conclusiones"
   ]
  }
 ],
 "metadata": {
  "kernelspec": {
   "display_name": "Python 3",
   "language": "python",
   "name": "python3"
  },
  "language_info": {
   "codemirror_mode": {
    "name": "ipython",
    "version": 3
   },
   "file_extension": ".py",
   "mimetype": "text/x-python",
   "name": "python",
   "nbconvert_exporter": "python",
   "pygments_lexer": "ipython3",
   "version": "3.7.3"
  }
 },
 "nbformat": 4,
 "nbformat_minor": 2
}
