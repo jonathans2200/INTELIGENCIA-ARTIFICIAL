{
 "cells": [
  {
   "cell_type": "markdown",
   "metadata": {},
   "source": [
    "# Busqueda por Costo\n",
    "\n",
    "A continuacion se ejemplifica la busqueda por costo revisada en clase. Para ello se tiene un ejemplo de las ciudades del territorio Ecuatoriano y su distancia.\n"
   ]
  },
  {
   "cell_type": "code",
   "execution_count": 33,
   "metadata": {},
   "outputs": [],
   "source": [
    "# Busqueda por costo.\n",
    "\n",
    "# Creamos la clase Nodo\n",
    "class Node:\n",
    "    def __init__(self, data, child=None): # Constructor de la clase\n",
    "        self.data = data\n",
    "        self.child = None\n",
    "        self.fathr = None\n",
    "        self.cost = None # Importante tener el costo de recorer el nodo\n",
    "        self.set_child(child)\n",
    "\n",
    "    def set_child(self, child): # Agregar hijos\n",
    "        self.child = child\n",
    "        if self.child is not None:\n",
    "            for ch in self.child:\n",
    "                ch.fathr = self\n",
    "            \n",
    "    def equal(self, node):\n",
    "        if self.data == node.data:\n",
    "            return True\n",
    "        else:\n",
    "            return False\n",
    "\n",
    "    def on_list(self, node_list): # Verfiicar su el nodo esta en la lista\n",
    "        listed = False\n",
    "        for n in node_list:\n",
    "            if self.equal(n):\n",
    "                listed = True\n",
    "        return listed\n",
    "\n",
    "    def __str__(self): # Igual al toString Java\n",
    "        return str(self.data)\n",
    "    \n",
    "    "
   ]
  },
  {
   "cell_type": "code",
   "execution_count": 34,
   "metadata": {},
   "outputs": [],
   "source": [
    "#Definimos una funcion para obtener el costo - CompareTo (Java)\n",
    "def Compare(node):\n",
    "    return node.cost"
   ]
  },
  {
   "cell_type": "code",
   "execution_count": 36,
   "metadata": {},
   "outputs": [
    {
     "name": "stdout",
     "output_type": "stream",
     "text": [
      "['Guayaquil', 'Ambato', 'Puyo']\n",
      "Costo total: 310\n"
     ]
    }
   ],
   "source": [
    "# Implementacion del metodo de busqueda por costo\n",
    "def search_costo_solucion(connections, init_state, solution):\n",
    "    solved = False # Variable para almacenar el estado de la busqueda\n",
    "    visited_nodes = [] # Nodos visitados\n",
    "    frontier_nodes = [] # Nodos en busqueda o lista nodos o nodos por visitar\n",
    "\n",
    "    init_node = Node(init_state) # Nodo inicial\n",
    "    init_node.cost =0 # Agregar costo inicial\n",
    "    frontier_nodes.append(init_node)\n",
    "    while (not solved) and len(frontier_nodes) != 0:\n",
    "        frontier_nodes = sorted(frontier_nodes, key=Compare) # Ordenar lista de nodos \n",
    "        node = frontier_nodes[0]\n",
    "        visited_nodes.append(frontier_nodes.pop(0)) # Extraer nodo y añadirlo a visitados\n",
    "        if node.data == solution:# Solucion encontrada\n",
    "            solved = True\n",
    "            return node\n",
    "        else:\n",
    "            node_data = node.data# Expandir nodos hijo (ciudades con conexion)\n",
    "            child_list = []\n",
    "            for achild in connections[node_data]: # Recorrera cada uno de los nodos hijos\n",
    "                child = Node(achild)\n",
    "                cost = connections[node_data][achild] # Obtener el costo del nodo\n",
    "                child.cost = node.cost + cost # Agregamos el costo actual del nodo + el historial\n",
    "                child_list.append(child)\n",
    "                if not child.on_list(visited_nodes):\n",
    "                    if child.on_list(frontier_nodes): # Si está en la lista lo sustituimos con el nuevo valor de coste si es menor\n",
    "                        for n in frontier_nodes:\n",
    "                            if n.equal(child) and n.cost > child.cost:\n",
    "                                frontier_nodes.remove(n)\n",
    "                                frontier_nodes.append(child)\n",
    "                    else:\n",
    "                        frontier_nodes.append(child)\n",
    "            node.set_child(child_list)\n",
    "\n",
    "if __name__ == \"__main__\":\n",
    "    connections = {\n",
    "        'Cuenca': {'Riobamba':190, 'Quito':280, 'Guayaquil':170},\n",
    "        'Latacunga': {'Ambato':50, 'Quito':30},\n",
    "        'Esmeraldas': {'Manta':80},\n",
    "        'Manta': {'Guayaquil':60},\n",
    "        'Quito': {'Riobamba':110, 'Latacunga':30, 'Cuenca':280, 'Guayaquil':190, 'Puyo':170},\n",
    "        'Riobamba': {'Cuenca':190, 'Quito':110},\n",
    "        'Ambato': {'Latacunga':50, 'Puyo':80, 'Guayaquil':230},\n",
    "        'Puyo': {'Ambato':60, 'Quito':170},\n",
    "        'Machala': {'Guayaquil':80},\n",
    "        'Guayaquil': {'Machala':80, 'Ambato':230, 'Quito':190, 'Cuenca':170, 'Manta':60}\n",
    "    }\n",
    "\n",
    "    init_state = 'Guayaquil'\n",
    "    solution = 'Puyo'\n",
    "    solution_node = search_costo_solucion(connections, init_state, solution)\n",
    "    # mostrar resultado\n",
    "    result = []\n",
    "    node = solution_node\n",
    "    if node is not None: \n",
    "        while node.fathr is not None:\n",
    "            result.append(node.data)\n",
    "            node = node.fathr\n",
    "        result.append(init_state)\n",
    "        result.reverse() # Reverso el resultado (Solo para presentar)\n",
    "        print(result)\n",
    "        print(\"Costo total: %s\" % str(solution_node.cost)) # Imprimir el costo total de llegar al nodo\n",
    "    else:\n",
    "        print(\"No hay solucion !!!!\")"
   ]
  },
  {
   "cell_type": "markdown",
   "metadata": {},
   "source": [
    "## Practica\n",
    "\n",
    "Implementar un algoritmo que me permita dibujar las conexiones con los costos y los resultados del grafo.\n",
    "\n",
    "Mediante el uso de la herramienta de Google Maps tomar al su direccion domiciliaria como punto de partida y generar un arbol jerarquico con todos los posibles Policia/UPC/Funcion Judicial, para ello se debe tener como primer nivel los mas cercanos y a continuacion los demas generando un arbol jerarquico.\n",
    "\n",
    "\n",
    "Realizar los calculos para obtener el factor de ramificacion, análisis del algoritmo en términos de completitud, optimalidad, complejidad temporal y complejidad espacial.\n",
    "\n",
    "\n",
    "Subir el cuaderno con la resolucion\n",
    "\n",
    "Generar un arbol de expansion del COVID-19 en el Ecuador y agregarle al metodo de costo para obtener la ruta de contagio.\n"
   ]
  },
  {
   "cell_type": "code",
   "execution_count": 14,
   "metadata": {
    "scrolled": true
   },
   "outputs": [
    {
     "name": "stdout",
     "output_type": "stream",
     "text": [
      "[[4, 2, 3, 1], [2, 4, 3, 1], [2, 3, 4, 1], [2, 3, 1, 4], [2, 1, 3, 4], [1, 2, 3, 4]]\n"
     ]
    }
   ],
   "source": [
    "# Implementar"
   ]
  },
  {
   "cell_type": "markdown",
   "metadata": {},
   "source": [
    "# Conclusiones"
   ]
  }
 ],
 "metadata": {
  "kernelspec": {
   "display_name": "Python 3",
   "language": "python",
   "name": "python3"
  },
  "language_info": {
   "codemirror_mode": {
    "name": "ipython",
    "version": 3
   },
   "file_extension": ".py",
   "mimetype": "text/x-python",
   "name": "python",
   "nbconvert_exporter": "python",
   "pygments_lexer": "ipython3",
   "version": "3.7.3"
  }
 },
 "nbformat": 4,
 "nbformat_minor": 2
}
